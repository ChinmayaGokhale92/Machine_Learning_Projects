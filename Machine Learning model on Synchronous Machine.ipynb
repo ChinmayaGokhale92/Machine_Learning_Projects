{
 "cells": [
  {
   "cell_type": "code",
   "execution_count": 1,
   "id": "e94a54cf",
   "metadata": {},
   "outputs": [],
   "source": [
    "# The data has one file SynchronousMachine.csv\n",
    "# Description\n",
    "# I_y: Load Current\n",
    "# PF: Power factor\n",
    "# e_PF: Power factor error\n",
    "# d_if: Changing of excitation current of synchronous machine\n",
    "# I_f: Excitation current of synchronous machine"
   ]
  },
  {
   "cell_type": "code",
   "execution_count": 2,
   "id": "7efff055",
   "metadata": {},
   "outputs": [],
   "source": [
    "import warnings\n",
    "warnings.filterwarnings('ignore')"
   ]
  },
  {
   "cell_type": "code",
   "execution_count": 3,
   "id": "ac40e39f",
   "metadata": {},
   "outputs": [
    {
     "data": {
      "text/plain": [
       "'C:\\\\Users\\\\Chinmaya\\\\IVY Python ML-Oct 2022'"
      ]
     },
     "execution_count": 3,
     "metadata": {},
     "output_type": "execute_result"
    }
   ],
   "source": [
    "import os\n",
    "os.getcwd()"
   ]
  },
  {
   "cell_type": "code",
   "execution_count": 4,
   "id": "91e10070",
   "metadata": {},
   "outputs": [],
   "source": [
    "import pandas as pd\n",
    "import numpy as np"
   ]
  },
  {
   "cell_type": "code",
   "execution_count": 5,
   "id": "ebaedc62",
   "metadata": {
    "scrolled": true
   },
   "outputs": [
    {
     "name": "stdout",
     "output_type": "stream",
     "text": [
      "Shape before deleting duplicate columns (557, 5)\n"
     ]
    }
   ],
   "source": [
    "# Reading the dataset\n",
    "SynchronousMachine=pd.read_csv('C:/Users/Chinmaya/IVY Python ML-Oct 2022/SynchronousMachine.csv',encoding='latin')\n",
    "print('Shape before deleting duplicate columns',SynchronousMachine.shape)"
   ]
  },
  {
   "cell_type": "code",
   "execution_count": 6,
   "id": "7353dd26",
   "metadata": {},
   "outputs": [
    {
     "name": "stdout",
     "output_type": "stream",
     "text": [
      "Shape before deleting duplicate columns (557, 5)\n"
     ]
    }
   ],
   "source": [
    "# Removing the duplicate rows if any\n",
    "SynchronousMachine=SynchronousMachine.drop_duplicates()\n",
    "print('Shape before deleting duplicate columns',SynchronousMachine.shape)"
   ]
  },
  {
   "cell_type": "code",
   "execution_count": 7,
   "id": "4694e9c7",
   "metadata": {},
   "outputs": [],
   "source": [
    "# Renaming the columns\n",
    "# inplace=True--> permanently replace the columns with new names\n",
    "SynchronousMachine.rename(columns = {'I_y':'Load_Current', 'PF':'Power_Factor','e_PF':'Power_Factor_Error',\n",
    "                                     'd_if':'Excitation_Current_Change','I_f':'Excitation_Current'},inplace = True)"
   ]
  },
  {
   "cell_type": "code",
   "execution_count": 8,
   "id": "d350c284",
   "metadata": {},
   "outputs": [
    {
     "data": {
      "text/html": [
       "<div>\n",
       "<style scoped>\n",
       "    .dataframe tbody tr th:only-of-type {\n",
       "        vertical-align: middle;\n",
       "    }\n",
       "\n",
       "    .dataframe tbody tr th {\n",
       "        vertical-align: top;\n",
       "    }\n",
       "\n",
       "    .dataframe thead th {\n",
       "        text-align: right;\n",
       "    }\n",
       "</style>\n",
       "<table border=\"1\" class=\"dataframe\">\n",
       "  <thead>\n",
       "    <tr style=\"text-align: right;\">\n",
       "      <th></th>\n",
       "      <th>Load_Current</th>\n",
       "      <th>Power_Factor</th>\n",
       "      <th>Power_Factor_Error</th>\n",
       "      <th>Excitation_Current_Change</th>\n",
       "      <th>Excitation_Current</th>\n",
       "    </tr>\n",
       "  </thead>\n",
       "  <tbody>\n",
       "    <tr>\n",
       "      <th>0</th>\n",
       "      <td>3.0</td>\n",
       "      <td>0.66</td>\n",
       "      <td>0.34</td>\n",
       "      <td>0.383</td>\n",
       "      <td>1.563</td>\n",
       "    </tr>\n",
       "    <tr>\n",
       "      <th>1</th>\n",
       "      <td>3.0</td>\n",
       "      <td>0.68</td>\n",
       "      <td>0.32</td>\n",
       "      <td>0.372</td>\n",
       "      <td>1.552</td>\n",
       "    </tr>\n",
       "    <tr>\n",
       "      <th>2</th>\n",
       "      <td>3.0</td>\n",
       "      <td>0.70</td>\n",
       "      <td>0.30</td>\n",
       "      <td>0.360</td>\n",
       "      <td>1.540</td>\n",
       "    </tr>\n",
       "    <tr>\n",
       "      <th>3</th>\n",
       "      <td>3.0</td>\n",
       "      <td>0.72</td>\n",
       "      <td>0.28</td>\n",
       "      <td>0.338</td>\n",
       "      <td>1.518</td>\n",
       "    </tr>\n",
       "    <tr>\n",
       "      <th>4</th>\n",
       "      <td>3.0</td>\n",
       "      <td>0.74</td>\n",
       "      <td>0.26</td>\n",
       "      <td>0.317</td>\n",
       "      <td>1.497</td>\n",
       "    </tr>\n",
       "    <tr>\n",
       "      <th>5</th>\n",
       "      <td>3.0</td>\n",
       "      <td>0.76</td>\n",
       "      <td>0.24</td>\n",
       "      <td>0.301</td>\n",
       "      <td>1.481</td>\n",
       "    </tr>\n",
       "    <tr>\n",
       "      <th>6</th>\n",
       "      <td>3.0</td>\n",
       "      <td>0.78</td>\n",
       "      <td>0.22</td>\n",
       "      <td>0.290</td>\n",
       "      <td>1.470</td>\n",
       "    </tr>\n",
       "    <tr>\n",
       "      <th>7</th>\n",
       "      <td>3.0</td>\n",
       "      <td>0.80</td>\n",
       "      <td>0.20</td>\n",
       "      <td>0.280</td>\n",
       "      <td>1.460</td>\n",
       "    </tr>\n",
       "    <tr>\n",
       "      <th>8</th>\n",
       "      <td>3.0</td>\n",
       "      <td>0.82</td>\n",
       "      <td>0.18</td>\n",
       "      <td>0.250</td>\n",
       "      <td>1.430</td>\n",
       "    </tr>\n",
       "    <tr>\n",
       "      <th>9</th>\n",
       "      <td>3.0</td>\n",
       "      <td>0.84</td>\n",
       "      <td>0.16</td>\n",
       "      <td>0.221</td>\n",
       "      <td>1.401</td>\n",
       "    </tr>\n",
       "  </tbody>\n",
       "</table>\n",
       "</div>"
      ],
      "text/plain": [
       "   Load_Current  Power_Factor  Power_Factor_Error  Excitation_Current_Change  \\\n",
       "0           3.0          0.66                0.34                      0.383   \n",
       "1           3.0          0.68                0.32                      0.372   \n",
       "2           3.0          0.70                0.30                      0.360   \n",
       "3           3.0          0.72                0.28                      0.338   \n",
       "4           3.0          0.74                0.26                      0.317   \n",
       "5           3.0          0.76                0.24                      0.301   \n",
       "6           3.0          0.78                0.22                      0.290   \n",
       "7           3.0          0.80                0.20                      0.280   \n",
       "8           3.0          0.82                0.18                      0.250   \n",
       "9           3.0          0.84                0.16                      0.221   \n",
       "\n",
       "   Excitation_Current  \n",
       "0               1.563  \n",
       "1               1.552  \n",
       "2               1.540  \n",
       "3               1.518  \n",
       "4               1.497  \n",
       "5               1.481  \n",
       "6               1.470  \n",
       "7               1.460  \n",
       "8               1.430  \n",
       "9               1.401  "
      ]
     },
     "execution_count": 8,
     "metadata": {},
     "output_type": "execute_result"
    }
   ],
   "source": [
    "# Printing the sample data\n",
    "SynchronousMachine.head(10)"
   ]
  },
  {
   "cell_type": "code",
   "execution_count": 9,
   "id": "7e06ca61",
   "metadata": {},
   "outputs": [],
   "source": [
    "# Creating the model\n",
    "# Target variable: L_f-->Estimate excitation current\n",
    "# Predictors: \n",
    "# I_y: Load Current\n",
    "# PF: Power factor\n",
    "# e_PF: Power factor error\n",
    "# d_if: Changing of excitation current of synchronous machine"
   ]
  },
  {
   "cell_type": "code",
   "execution_count": 10,
   "id": "7b1eec6e",
   "metadata": {},
   "outputs": [],
   "source": [
    "# Based on the problem statement we need to create a supervised ML Regression model, as the target variable is continuous"
   ]
  },
  {
   "cell_type": "code",
   "execution_count": 11,
   "id": "2a07e68a",
   "metadata": {},
   "outputs": [],
   "source": [
    "# Looking at the distribution of target variable\n",
    "# If target variable is too skewed then the predictive modelling is not possible\n",
    "# Bell curve is desirable but slightely positiveskew/negative skew is also fine\n",
    "# When performing regression, make sure the histogram looks like a bell curve or slight skewed version of it.\n",
    "# Otherwise it impacts the ML algorithms ability to learn all the scenarios"
   ]
  },
  {
   "cell_type": "code",
   "execution_count": 12,
   "id": "2be0a0e5",
   "metadata": {},
   "outputs": [
    {
     "data": {
      "text/plain": [
       "<AxesSubplot:>"
      ]
     },
     "execution_count": 12,
     "metadata": {},
     "output_type": "execute_result"
    },
    {
     "data": {
      "image/png": "[encoded data removed]",
      "text/plain": [
       "<Figure size 640x480 with 1 Axes>"
      ]
     },
     "metadata": {},
     "output_type": "display_data"
    }
   ],
   "source": [
    "%matplotlib inline\n",
    "# Creating bar charts of the variable is continuous\n",
    "SynchronousMachine['Excitation_Current'].hist()"
   ]
  },
  {
   "cell_type": "code",
   "execution_count": 13,
   "id": "15dfa150",
   "metadata": {},
   "outputs": [],
   "source": [
    "# The data distribution of the target variable is satisfactory to proceed further. There are sufficient number of rows"
   ]
  },
  {
   "cell_type": "code",
   "execution_count": 14,
   "id": "fc61a347",
   "metadata": {},
   "outputs": [],
   "source": [
    "# Basic data exploration\n",
    "# This step is performed in order to gauge the overall data, volume, types of columns\n",
    "# Initial assessment of the data should be done to identiy which columns are Quantitative, Categorical or Qualitative\n",
    "\n",
    "# It helps in select/reject the columns\n",
    "# Better to question ourselves whether the column will affect the target variable or not?\n",
    "# If answer is no, then better to skip the column\n",
    "\n",
    "# 4 commands used for basic data exploration in Python\n",
    "# head(): helps to see few sample rows of the data\n",
    "# info(): provides summarized information of the data\n",
    "# describe(): provides descriptive statistical details of the data\n",
    "# nunique(): helpsus to identify if a columns is categorical/continuous"
   ]
  },
  {
   "cell_type": "code",
   "execution_count": 15,
   "id": "28ae8ab8",
   "metadata": {},
   "outputs": [
    {
     "data": {
      "text/html": [
       "<div>\n",
       "<style scoped>\n",
       "    .dataframe tbody tr th:only-of-type {\n",
       "        vertical-align: middle;\n",
       "    }\n",
       "\n",
       "    .dataframe tbody tr th {\n",
       "        vertical-align: top;\n",
       "    }\n",
       "\n",
       "    .dataframe thead th {\n",
       "        text-align: right;\n",
       "    }\n",
       "</style>\n",
       "<table border=\"1\" class=\"dataframe\">\n",
       "  <thead>\n",
       "    <tr style=\"text-align: right;\">\n",
       "      <th></th>\n",
       "      <th>Load_Current</th>\n",
       "      <th>Power_Factor</th>\n",
       "      <th>Power_Factor_Error</th>\n",
       "      <th>Excitation_Current_Change</th>\n",
       "      <th>Excitation_Current</th>\n",
       "    </tr>\n",
       "  </thead>\n",
       "  <tbody>\n",
       "    <tr>\n",
       "      <th>0</th>\n",
       "      <td>3.0</td>\n",
       "      <td>0.66</td>\n",
       "      <td>0.34</td>\n",
       "      <td>0.383</td>\n",
       "      <td>1.563</td>\n",
       "    </tr>\n",
       "    <tr>\n",
       "      <th>1</th>\n",
       "      <td>3.0</td>\n",
       "      <td>0.68</td>\n",
       "      <td>0.32</td>\n",
       "      <td>0.372</td>\n",
       "      <td>1.552</td>\n",
       "    </tr>\n",
       "    <tr>\n",
       "      <th>2</th>\n",
       "      <td>3.0</td>\n",
       "      <td>0.70</td>\n",
       "      <td>0.30</td>\n",
       "      <td>0.360</td>\n",
       "      <td>1.540</td>\n",
       "    </tr>\n",
       "    <tr>\n",
       "      <th>3</th>\n",
       "      <td>3.0</td>\n",
       "      <td>0.72</td>\n",
       "      <td>0.28</td>\n",
       "      <td>0.338</td>\n",
       "      <td>1.518</td>\n",
       "    </tr>\n",
       "    <tr>\n",
       "      <th>4</th>\n",
       "      <td>3.0</td>\n",
       "      <td>0.74</td>\n",
       "      <td>0.26</td>\n",
       "      <td>0.317</td>\n",
       "      <td>1.497</td>\n",
       "    </tr>\n",
       "    <tr>\n",
       "      <th>5</th>\n",
       "      <td>3.0</td>\n",
       "      <td>0.76</td>\n",
       "      <td>0.24</td>\n",
       "      <td>0.301</td>\n",
       "      <td>1.481</td>\n",
       "    </tr>\n",
       "    <tr>\n",
       "      <th>6</th>\n",
       "      <td>3.0</td>\n",
       "      <td>0.78</td>\n",
       "      <td>0.22</td>\n",
       "      <td>0.290</td>\n",
       "      <td>1.470</td>\n",
       "    </tr>\n",
       "    <tr>\n",
       "      <th>7</th>\n",
       "      <td>3.0</td>\n",
       "      <td>0.80</td>\n",
       "      <td>0.20</td>\n",
       "      <td>0.280</td>\n",
       "      <td>1.460</td>\n",
       "    </tr>\n",
       "    <tr>\n",
       "      <th>8</th>\n",
       "      <td>3.0</td>\n",
       "      <td>0.82</td>\n",
       "      <td>0.18</td>\n",
       "      <td>0.250</td>\n",
       "      <td>1.430</td>\n",
       "    </tr>\n",
       "    <tr>\n",
       "      <th>9</th>\n",
       "      <td>3.0</td>\n",
       "      <td>0.84</td>\n",
       "      <td>0.16</td>\n",
       "      <td>0.221</td>\n",
       "      <td>1.401</td>\n",
       "    </tr>\n",
       "  </tbody>\n",
       "</table>\n",
       "</div>"
      ],
      "text/plain": [
       "   Load_Current  Power_Factor  Power_Factor_Error  Excitation_Current_Change  \\\n",
       "0           3.0          0.66                0.34                      0.383   \n",
       "1           3.0          0.68                0.32                      0.372   \n",
       "2           3.0          0.70                0.30                      0.360   \n",
       "3           3.0          0.72                0.28                      0.338   \n",
       "4           3.0          0.74                0.26                      0.317   \n",
       "5           3.0          0.76                0.24                      0.301   \n",
       "6           3.0          0.78                0.22                      0.290   \n",
       "7           3.0          0.80                0.20                      0.280   \n",
       "8           3.0          0.82                0.18                      0.250   \n",
       "9           3.0          0.84                0.16                      0.221   \n",
       "\n",
       "   Excitation_Current  \n",
       "0               1.563  \n",
       "1               1.552  \n",
       "2               1.540  \n",
       "3               1.518  \n",
       "4               1.497  \n",
       "5               1.481  \n",
       "6               1.470  \n",
       "7               1.460  \n",
       "8               1.430  \n",
       "9               1.401  "
      ]
     },
     "execution_count": 15,
     "metadata": {},
     "output_type": "execute_result"
    }
   ],
   "source": [
    "SynchronousMachine.head(10)"
   ]
  },
  {
   "cell_type": "code",
   "execution_count": 16,
   "id": "12d42cea",
   "metadata": {},
   "outputs": [
    {
     "name": "stdout",
     "output_type": "stream",
     "text": [
      "<class 'pandas.core.frame.DataFrame'>\n",
      "Int64Index: 557 entries, 0 to 556\n",
      "Data columns (total 5 columns):\n",
      " #   Column                     Non-Null Count  Dtype  \n",
      "---  ------                     --------------  -----  \n",
      " 0   Load_Current               557 non-null    float64\n",
      " 1   Power_Factor               557 non-null    float64\n",
      " 2   Power_Factor_Error         557 non-null    float64\n",
      " 3   Excitation_Current_Change  557 non-null    float64\n",
      " 4   Excitation_Current         557 non-null    float64\n",
      "dtypes: float64(5)\n",
      "memory usage: 26.1 KB\n"
     ]
    }
   ],
   "source": [
    "SynchronousMachine.info()"
   ]
  },
  {
   "cell_type": "code",
   "execution_count": 17,
   "id": "7d44a410",
   "metadata": {},
   "outputs": [
    {
     "data": {
      "text/html": [
       "<div>\n",
       "<style scoped>\n",
       "    .dataframe tbody tr th:only-of-type {\n",
       "        vertical-align: middle;\n",
       "    }\n",
       "\n",
       "    .dataframe tbody tr th {\n",
       "        vertical-align: top;\n",
       "    }\n",
       "\n",
       "    .dataframe thead th {\n",
       "        text-align: right;\n",
       "    }\n",
       "</style>\n",
       "<table border=\"1\" class=\"dataframe\">\n",
       "  <thead>\n",
       "    <tr style=\"text-align: right;\">\n",
       "      <th></th>\n",
       "      <th>Load_Current</th>\n",
       "      <th>Power_Factor</th>\n",
       "      <th>Power_Factor_Error</th>\n",
       "      <th>Excitation_Current_Change</th>\n",
       "      <th>Excitation_Current</th>\n",
       "    </tr>\n",
       "  </thead>\n",
       "  <tbody>\n",
       "    <tr>\n",
       "      <th>count</th>\n",
       "      <td>557.000000</td>\n",
       "      <td>557.000000</td>\n",
       "      <td>557.000000</td>\n",
       "      <td>557.000000</td>\n",
       "      <td>557.000000</td>\n",
       "    </tr>\n",
       "    <tr>\n",
       "      <th>mean</th>\n",
       "      <td>4.499820</td>\n",
       "      <td>0.825296</td>\n",
       "      <td>0.174704</td>\n",
       "      <td>0.350659</td>\n",
       "      <td>1.530659</td>\n",
       "    </tr>\n",
       "    <tr>\n",
       "      <th>std</th>\n",
       "      <td>0.896024</td>\n",
       "      <td>0.103925</td>\n",
       "      <td>0.103925</td>\n",
       "      <td>0.180566</td>\n",
       "      <td>0.180566</td>\n",
       "    </tr>\n",
       "    <tr>\n",
       "      <th>min</th>\n",
       "      <td>3.000000</td>\n",
       "      <td>0.650000</td>\n",
       "      <td>0.000000</td>\n",
       "      <td>0.037000</td>\n",
       "      <td>1.217000</td>\n",
       "    </tr>\n",
       "    <tr>\n",
       "      <th>25%</th>\n",
       "      <td>3.700000</td>\n",
       "      <td>0.740000</td>\n",
       "      <td>0.080000</td>\n",
       "      <td>0.189000</td>\n",
       "      <td>1.369000</td>\n",
       "    </tr>\n",
       "    <tr>\n",
       "      <th>50%</th>\n",
       "      <td>4.500000</td>\n",
       "      <td>0.820000</td>\n",
       "      <td>0.180000</td>\n",
       "      <td>0.345000</td>\n",
       "      <td>1.525000</td>\n",
       "    </tr>\n",
       "    <tr>\n",
       "      <th>75%</th>\n",
       "      <td>5.300000</td>\n",
       "      <td>0.920000</td>\n",
       "      <td>0.260000</td>\n",
       "      <td>0.486000</td>\n",
       "      <td>1.666000</td>\n",
       "    </tr>\n",
       "    <tr>\n",
       "      <th>max</th>\n",
       "      <td>6.000000</td>\n",
       "      <td>1.000000</td>\n",
       "      <td>0.350000</td>\n",
       "      <td>0.769000</td>\n",
       "      <td>1.949000</td>\n",
       "    </tr>\n",
       "  </tbody>\n",
       "</table>\n",
       "</div>"
      ],
      "text/plain": [
       "       Load_Current  Power_Factor  Power_Factor_Error  \\\n",
       "count    557.000000    557.000000          557.000000   \n",
       "mean       4.499820      0.825296            0.174704   \n",
       "std        0.896024      0.103925            0.103925   \n",
       "min        3.000000      0.650000            0.000000   \n",
       "25%        3.700000      0.740000            0.080000   \n",
       "50%        4.500000      0.820000            0.180000   \n",
       "75%        5.300000      0.920000            0.260000   \n",
       "max        6.000000      1.000000            0.350000   \n",
       "\n",
       "       Excitation_Current_Change  Excitation_Current  \n",
       "count                 557.000000          557.000000  \n",
       "mean                    0.350659            1.530659  \n",
       "std                     0.180566            0.180566  \n",
       "min                     0.037000            1.217000  \n",
       "25%                     0.189000            1.369000  \n",
       "50%                     0.345000            1.525000  \n",
       "75%                     0.486000            1.666000  \n",
       "max                     0.769000            1.949000  "
      ]
     },
     "execution_count": 17,
     "metadata": {},
     "output_type": "execute_result"
    }
   ],
   "source": [
    "# Looking at the dscrptive statistics of data\n",
    "SynchronousMachine.describe(include='all')"
   ]
  },
  {
   "cell_type": "code",
   "execution_count": 18,
   "id": "203286c5",
   "metadata": {},
   "outputs": [
    {
     "data": {
      "text/plain": [
       "Load_Current                  31\n",
       "Power_Factor                  36\n",
       "Power_Factor_Error            36\n",
       "Excitation_Current_Change    306\n",
       "Excitation_Current           306\n",
       "dtype: int64"
      ]
     },
     "execution_count": 18,
     "metadata": {},
     "output_type": "execute_result"
    }
   ],
   "source": [
    "# Fetching unique values for each column\n",
    "# To undersand which column is categorical/continuous\n",
    "SynchronousMachine.nunique()"
   ]
  },
  {
   "cell_type": "code",
   "execution_count": 19,
   "id": "3ce3535c",
   "metadata": {},
   "outputs": [],
   "source": [
    "# Basic Data Exploration Results\n",
    "# Load_Current: Continuous-->Selected\n",
    "# Power_Factor: Continuous-->Selected\n",
    "# Power_Factor_Error: Continuous-->Selected\n",
    "# Excitation_Current_Change: Continuous-->Selected\n",
    "# Excitation_Current: Continuous-->Selected"
   ]
  },
  {
   "cell_type": "code",
   "execution_count": 20,
   "id": "985ceca8",
   "metadata": {},
   "outputs": [],
   "source": [
    "# Removing useless columns\n",
    "# There are no qualitative columns in this data"
   ]
  },
  {
   "cell_type": "code",
   "execution_count": 21,
   "id": "eda3c30f",
   "metadata": {},
   "outputs": [],
   "source": [
    "# Visual Exploratory Data analysis\n",
    "# Category variables: Bar plots\n",
    "# Continuous variables: Histograms"
   ]
  },
  {
   "cell_type": "code",
   "execution_count": 22,
   "id": "fe1d85e5",
   "metadata": {},
   "outputs": [],
   "source": [
    "# Visualize distribution of all the categorical predictor variables in the data using bar plots\n",
    "# By looking the data, typically a categorical variable contains 20 unique values\n",
    "# Currently we don't have any categorical variable"
   ]
  },
  {
   "cell_type": "code",
   "execution_count": 23,
   "id": "10685f16",
   "metadata": {},
   "outputs": [],
   "source": [
    "# Visualize distribution of all the continuous predictor variables in the data using histograms"
   ]
  },
  {
   "cell_type": "code",
   "execution_count": 24,
   "id": "8cbe3c57",
   "metadata": {},
   "outputs": [
    {
     "data": {
      "text/plain": [
       "array([[<AxesSubplot:title={'center':'Load_Current'}>,\n",
       "        <AxesSubplot:title={'center':'Power_Factor'}>],\n",
       "       [<AxesSubplot:title={'center':'Power_Factor_Error'}>,\n",
       "        <AxesSubplot:title={'center':'Excitation_Current_Change'}>]],\n",
       "      dtype=object)"
      ]
     },
     "execution_count": 24,
     "metadata": {},
     "output_type": "execute_result"
    },
    {
     "data": {
      "image/png": "[encoded data removed]",
      "text/plain": [
       "<Figure size 1800x1000 with 4 Axes>"
      ]
     },
     "metadata": {},
     "output_type": "display_data"
    }
   ],
   "source": [
    "# Plotting histograms of multiple columns together\n",
    "SynchronousMachine.hist(['Load_Current', 'Power_Factor', 'Power_Factor_Error', 'Excitation_Current_Change'], figsize=(18,10))"
   ]
  },
  {
   "cell_type": "code",
   "execution_count": 25,
   "id": "da54a192",
   "metadata": {},
   "outputs": [],
   "source": [
    "# Histogram Interpretation\n",
    "# Histogram interpretation shows us the data distribution for a single continuous variable\n",
    "# X-axis shows the range of values and Y-axis represent the number of values in that range\n",
    "# The ideal outcome for histogram is a bell curve or slightely skewed bell curve. If there is too much skewness,\n",
    "# then outlier treatment should be done and then column should be re-examined or we need to reject the column"
   ]
  },
  {
   "cell_type": "code",
   "execution_count": 26,
   "id": "c96a39f7",
   "metadata": {},
   "outputs": [],
   "source": [
    "# Selected continuous variables\n",
    "# Load_Current: Selected. The distribution is good.\n",
    "# Power_Factor: Selected. The distribution is good.\n",
    "# Power_Factor_Error: Selected. The distribution is good.\n",
    "# Excitation_Current_Change: Selected. The distribution is good."
   ]
  },
  {
   "cell_type": "code",
   "execution_count": 27,
   "id": "62ac860b",
   "metadata": {},
   "outputs": [],
   "source": [
    "# Outlier treatment\n",
    "# Outliers are extreme values in the data which are far away from most of the values. If you notice them as the tail of histogram\n",
    "# Outliers must be treated one column at a time.As the treatment will be slightly different for each column\n",
    "\n",
    "# Why I should treat outliers?\n",
    "\n",
    "# Outliers bias the machine learning models. As the algorithm tries to fit the extreme value, it goes away from majority\n",
    "# of the data\n",
    "# Here we don't find any of the values at the extremes, so we will ignore treating columns for outliers"
   ]
  },
  {
   "cell_type": "code",
   "execution_count": 28,
   "id": "e1ea3a9b",
   "metadata": {},
   "outputs": [],
   "source": [
    "# Missing values treatment\n",
    "# Missing values are treated for each column separately\n",
    "# If a column has more than 30% of the data missing, then missing value treatment can't be done\n",
    "# The column must be rejected because too much information is missing\n",
    "\n",
    "# There are below options for treating missing values in data\n",
    "# - Interpolate the values based on the business logic\n",
    "# - Impute the missing values with MEDIAN value for continuous variables\n",
    "# - Impute the missing values with MODE values for categorical variables\n",
    "# - Interpolate the values based on the nearby value\n",
    "# - Delete the missing value rows if few records only available"
   ]
  },
  {
   "cell_type": "code",
   "execution_count": 29,
   "id": "e2c7c055",
   "metadata": {},
   "outputs": [
    {
     "name": "stdout",
     "output_type": "stream",
     "text": [
      "Load_Current                 0\n",
      "Power_Factor                 0\n",
      "Power_Factor_Error           0\n",
      "Excitation_Current_Change    0\n",
      "Excitation_Current           0\n",
      "dtype: int64\n"
     ]
    },
    {
     "data": {
      "text/plain": [
       "<AxesSubplot:>"
      ]
     },
     "execution_count": 29,
     "metadata": {},
     "output_type": "execute_result"
    },
    {
     "data": {
      "image/png": "[encoded data removed]",
      "text/plain": [
       "<Figure size 640x480 with 1 Axes>"
      ]
     },
     "metadata": {},
     "output_type": "display_data"
    }
   ],
   "source": [
    "# Finding how many missing values are there for each column\n",
    "print(SynchronousMachine.isnull().sum())\n",
    "SynchronousMachine.isnull().sum().plot(kind='bar')"
   ]
  },
  {
   "cell_type": "code",
   "execution_count": 30,
   "id": "4ed4c621",
   "metadata": {},
   "outputs": [],
   "source": [
    "# Since there are no missing values in any of the column so there is no need to treat any column"
   ]
  },
  {
   "cell_type": "code",
   "execution_count": null,
   "id": "13afd727",
   "metadata": {},
   "outputs": [],
   "source": []
  },
  {
   "cell_type": "code",
   "execution_count": 31,
   "id": "87d57bc2",
   "metadata": {},
   "outputs": [],
   "source": [
    "# Feature Selection (Bi-Variate analysis)\n",
    "# Now its time to finally choose the best columns(Features) which are correlated to the Target variable\n",
    "# This can be done directly by measuring the correlation values or ANOVA/Chi-Square tests\n",
    "# However, it is always helpful to visualize the relation between the Target variable and each of the predictors to get\n",
    "# a better sense of data\n",
    "\n",
    "# I have listed below the techniques used for visualizing relationship between two variables as well as measuring\n",
    "# the strength statistically"
   ]
  },
  {
   "cell_type": "code",
   "execution_count": 32,
   "id": "4c756e45",
   "metadata": {},
   "outputs": [],
   "source": [
    "# Visual exploration of relationship between variables\n",
    "# - Continuous Vs Continuous ---- Scatter Plot\n",
    "# - Categorical Vs Continuous---- Box Plot\n",
    "# - Categorical Vs Categorical---- Grouped Bar Plots\n",
    "\n",
    "# Statistical measurement of relationship strength between variables\n",
    "# - Continuous Vs Continuous ---- Correlation matrix\n",
    "# - Continuous Vs Continuous ---- Correlation matrix\n",
    "# - Categorical Vs Categorical--- Chi-Square test\n",
    "\n",
    "# In this case study, target variable is continuous, hence below 2 scenarios will be present\n",
    "# - Continuous Target Variable Vs Continuous Predictor\n",
    "# - Continuous Target Variable Vs Categorical Predictor"
   ]
  },
  {
   "cell_type": "code",
   "execution_count": 33,
   "id": "967ab450",
   "metadata": {},
   "outputs": [],
   "source": [
    "# Relationship exploration: Continuous Vs Continuous -- Scatter Charts\n",
    "# When the Target variable is continuous and the predictor is also continuous, we can visualize the relationship\n",
    "# between the two variables using scatter plot and measure the strength of relation using pearson's correlation value"
   ]
  },
  {
   "cell_type": "code",
   "execution_count": 34,
   "id": "c579d655",
   "metadata": {},
   "outputs": [
    {
     "data": {
      "image/png": "[encoded data removed]",
      "text/plain": [
       "<Figure size 1000x500 with 1 Axes>"
      ]
     },
     "metadata": {},
     "output_type": "display_data"
    },
    {
     "data": {
      "image/png": "[encoded data removed]",
      "text/plain": [
       "<Figure size 1000x500 with 1 Axes>"
      ]
     },
     "metadata": {},
     "output_type": "display_data"
    },
    {
     "data": {
      "image/png": "[encoded data removed]",
      "text/plain": [
       "<Figure size 1000x500 with 1 Axes>"
      ]
     },
     "metadata": {},
     "output_type": "display_data"
    },
    {
     "data": {
      "image/png": "[encoded data removed]",
      "text/plain": [
       "<Figure size 1000x500 with 1 Axes>"
      ]
     },
     "metadata": {},
     "output_type": "display_data"
    }
   ],
   "source": [
    "ContinuousCols=['Load_Current','Power_Factor','Power_Factor_Error','Excitation_Current_Change']\n",
    "\n",
    "# Plotting scatter chart for each predictor vs the target variable\n",
    "for predictor in ContinuousCols:\n",
    "    SynchronousMachine.plot.scatter(x=predictor, y='Excitation_Current', figsize=(10,5), title=predictor+'v/s'+'Excitation_Current')"
   ]
  },
  {
   "cell_type": "code",
   "execution_count": 35,
   "id": "5ced2afa",
   "metadata": {},
   "outputs": [],
   "source": [
    "# Scatter chart interpretation\n",
    "# What should you look in these scatter charts?\n",
    "# Trend..We need to try to see if there is a visible trend or not. There could be 3 scenarios\n",
    "\n",
    "# - Increasing Trend: This means both variables are positively correlated. In simpler terms,\n",
    "# they are directly proportional to each other\n",
    "# - Decreasing Trend: This means both variables are negatively correlated. In simpler terms,\n",
    "# they are inversely proportional to each other, if one value increases, other decreases. This is also good for ML!\n",
    "# - No Trend: You cannot see any clear increasing or decreasing trend. This means there is no correlation\n",
    "# between the variables. Hence the predictor cannot be used for ML.\n",
    "\n",
    "# Based on this chart you can get a good idea about the predictor, if it will be useful or not.\n",
    "# You confirm this by looking at the correlation value."
   ]
  },
  {
   "cell_type": "code",
   "execution_count": 36,
   "id": "c90ca696",
   "metadata": {},
   "outputs": [],
   "source": [
    "# Statistical feature selection:\n",
    "# This value will be calulated only between numeric columns\n",
    "# Correlation between [-1,0] means inversely proportional, the scatter plot will show downward trend\n",
    "# Correlation between (0,1] means directly proportional, the scatter plot will show a upward trend\n",
    "# Correlation near [0] means No relationship, the scatter plot will show no clear trend\n",
    "# If Correlation value between two variables is > 0.5 in magnitude, it indicates good relationship the sign does not matter\n",
    "# We observe the correlations between Target variable and all other predictor variables(s) to check which \n",
    "# columns/features/predictors are actually related to the target variable in question"
   ]
  },
  {
   "cell_type": "code",
   "execution_count": 37,
   "id": "be1cad84",
   "metadata": {},
   "outputs": [
    {
     "data": {
      "text/html": [
       "<div>\n",
       "<style scoped>\n",
       "    .dataframe tbody tr th:only-of-type {\n",
       "        vertical-align: middle;\n",
       "    }\n",
       "\n",
       "    .dataframe tbody tr th {\n",
       "        vertical-align: top;\n",
       "    }\n",
       "\n",
       "    .dataframe thead th {\n",
       "        text-align: right;\n",
       "    }\n",
       "</style>\n",
       "<table border=\"1\" class=\"dataframe\">\n",
       "  <thead>\n",
       "    <tr style=\"text-align: right;\">\n",
       "      <th></th>\n",
       "      <th>Excitation_Current</th>\n",
       "      <th>Load_Current</th>\n",
       "      <th>Power_Factor</th>\n",
       "      <th>Power_Factor_Error</th>\n",
       "      <th>Excitation_Current_Change</th>\n",
       "    </tr>\n",
       "  </thead>\n",
       "  <tbody>\n",
       "    <tr>\n",
       "      <th>Excitation_Current</th>\n",
       "      <td>1.000000</td>\n",
       "      <td>0.424945</td>\n",
       "      <td>-0.861013</td>\n",
       "      <td>0.861013</td>\n",
       "      <td>1.000000</td>\n",
       "    </tr>\n",
       "    <tr>\n",
       "      <th>Load_Current</th>\n",
       "      <td>0.424945</td>\n",
       "      <td>1.000000</td>\n",
       "      <td>-0.041574</td>\n",
       "      <td>0.041574</td>\n",
       "      <td>0.424945</td>\n",
       "    </tr>\n",
       "    <tr>\n",
       "      <th>Power_Factor</th>\n",
       "      <td>-0.861013</td>\n",
       "      <td>-0.041574</td>\n",
       "      <td>1.000000</td>\n",
       "      <td>-1.000000</td>\n",
       "      <td>-0.861013</td>\n",
       "    </tr>\n",
       "    <tr>\n",
       "      <th>Power_Factor_Error</th>\n",
       "      <td>0.861013</td>\n",
       "      <td>0.041574</td>\n",
       "      <td>-1.000000</td>\n",
       "      <td>1.000000</td>\n",
       "      <td>0.861013</td>\n",
       "    </tr>\n",
       "    <tr>\n",
       "      <th>Excitation_Current_Change</th>\n",
       "      <td>1.000000</td>\n",
       "      <td>0.424945</td>\n",
       "      <td>-0.861013</td>\n",
       "      <td>0.861013</td>\n",
       "      <td>1.000000</td>\n",
       "    </tr>\n",
       "  </tbody>\n",
       "</table>\n",
       "</div>"
      ],
      "text/plain": [
       "                           Excitation_Current  Load_Current  Power_Factor  \\\n",
       "Excitation_Current                   1.000000      0.424945     -0.861013   \n",
       "Load_Current                         0.424945      1.000000     -0.041574   \n",
       "Power_Factor                        -0.861013     -0.041574      1.000000   \n",
       "Power_Factor_Error                   0.861013      0.041574     -1.000000   \n",
       "Excitation_Current_Change            1.000000      0.424945     -0.861013   \n",
       "\n",
       "                           Power_Factor_Error  Excitation_Current_Change  \n",
       "Excitation_Current                   0.861013                   1.000000  \n",
       "Load_Current                         0.041574                   0.424945  \n",
       "Power_Factor                        -1.000000                  -0.861013  \n",
       "Power_Factor_Error                   1.000000                   0.861013  \n",
       "Excitation_Current_Change            0.861013                   1.000000  "
      ]
     },
     "execution_count": 37,
     "metadata": {},
     "output_type": "execute_result"
    }
   ],
   "source": [
    "# Calculatin correlation matrix\n",
    "ContinuousCols=['Excitation_Current','Load_Current','Power_Factor','Power_Factor_Error','Excitation_Current_Change']\n",
    "\n",
    "# Creating the correlation matrix\n",
    "CorrelationData=SynchronousMachine[ContinuousCols].corr()\n",
    "CorrelationData"
   ]
  },
  {
   "cell_type": "code",
   "execution_count": 38,
   "id": "d19c35ea",
   "metadata": {},
   "outputs": [
    {
     "data": {
      "text/plain": [
       "Excitation_Current           1.000000\n",
       "Power_Factor                -0.861013\n",
       "Power_Factor_Error           0.861013\n",
       "Excitation_Current_Change    1.000000\n",
       "Name: Excitation_Current, dtype: float64"
      ]
     },
     "execution_count": 38,
     "metadata": {},
     "output_type": "execute_result"
    }
   ],
   "source": [
    "# Filtering only those columns where absolute correlation > 0.5 with Target Variable\n",
    "# reduce the 0.5 threshold if no variable is selected\n",
    "CorrelationData['Excitation_Current'][abs(CorrelationData['Excitation_Current']) > 0.5]"
   ]
  },
  {
   "cell_type": "code",
   "execution_count": 39,
   "id": "53d2bb10",
   "metadata": {},
   "outputs": [
    {
     "data": {
      "text/plain": [
       "Excitation_Current            True\n",
       "Load_Current                 False\n",
       "Power_Factor                  True\n",
       "Power_Factor_Error            True\n",
       "Excitation_Current_Change     True\n",
       "Name: Excitation_Current, dtype: bool"
      ]
     },
     "execution_count": 39,
     "metadata": {},
     "output_type": "execute_result"
    }
   ],
   "source": [
    "# Final selected continuous columns:\n",
    "# 'Load_Current','Power_Factor','Power_Factor_Error','Excitation_Current_Change\n",
    "abs(CorrelationData['Excitation_Current'])>0.5"
   ]
  },
  {
   "cell_type": "code",
   "execution_count": null,
   "id": "25b924e8",
   "metadata": {},
   "outputs": [],
   "source": []
  },
  {
   "cell_type": "code",
   "execution_count": 40,
   "id": "c5c0b159",
   "metadata": {},
   "outputs": [],
   "source": [
    "# Selecting Final Predictors for Machine Learning\n",
    "# Based on above tests, selecting final columns for machine learning"
   ]
  },
  {
   "cell_type": "code",
   "execution_count": 41,
   "id": "2b543d8b",
   "metadata": {},
   "outputs": [
    {
     "data": {
      "text/html": [
       "<div>\n",
       "<style scoped>\n",
       "    .dataframe tbody tr th:only-of-type {\n",
       "        vertical-align: middle;\n",
       "    }\n",
       "\n",
       "    .dataframe tbody tr th {\n",
       "        vertical-align: top;\n",
       "    }\n",
       "\n",
       "    .dataframe thead th {\n",
       "        text-align: right;\n",
       "    }\n",
       "</style>\n",
       "<table border=\"1\" class=\"dataframe\">\n",
       "  <thead>\n",
       "    <tr style=\"text-align: right;\">\n",
       "      <th></th>\n",
       "      <th>Load_Current</th>\n",
       "      <th>Power_Factor</th>\n",
       "      <th>Power_Factor_Error</th>\n",
       "      <th>Excitation_Current_Change</th>\n",
       "    </tr>\n",
       "  </thead>\n",
       "  <tbody>\n",
       "    <tr>\n",
       "      <th>0</th>\n",
       "      <td>3.0</td>\n",
       "      <td>0.66</td>\n",
       "      <td>0.34</td>\n",
       "      <td>0.383</td>\n",
       "    </tr>\n",
       "    <tr>\n",
       "      <th>1</th>\n",
       "      <td>3.0</td>\n",
       "      <td>0.68</td>\n",
       "      <td>0.32</td>\n",
       "      <td>0.372</td>\n",
       "    </tr>\n",
       "    <tr>\n",
       "      <th>2</th>\n",
       "      <td>3.0</td>\n",
       "      <td>0.70</td>\n",
       "      <td>0.30</td>\n",
       "      <td>0.360</td>\n",
       "    </tr>\n",
       "    <tr>\n",
       "      <th>3</th>\n",
       "      <td>3.0</td>\n",
       "      <td>0.72</td>\n",
       "      <td>0.28</td>\n",
       "      <td>0.338</td>\n",
       "    </tr>\n",
       "    <tr>\n",
       "      <th>4</th>\n",
       "      <td>3.0</td>\n",
       "      <td>0.74</td>\n",
       "      <td>0.26</td>\n",
       "      <td>0.317</td>\n",
       "    </tr>\n",
       "  </tbody>\n",
       "</table>\n",
       "</div>"
      ],
      "text/plain": [
       "   Load_Current  Power_Factor  Power_Factor_Error  Excitation_Current_Change\n",
       "0           3.0          0.66                0.34                      0.383\n",
       "1           3.0          0.68                0.32                      0.372\n",
       "2           3.0          0.70                0.30                      0.360\n",
       "3           3.0          0.72                0.28                      0.338\n",
       "4           3.0          0.74                0.26                      0.317"
      ]
     },
     "execution_count": 41,
     "metadata": {},
     "output_type": "execute_result"
    }
   ],
   "source": [
    "SelectedColumns=['Load_Current','Power_Factor','Power_Factor_Error','Excitation_Current_Change']\n",
    "\n",
    "# Selecting final columns\n",
    "DataForML=SynchronousMachine[SelectedColumns]\n",
    "DataForML.head()"
   ]
  },
  {
   "cell_type": "code",
   "execution_count": null,
   "id": "b3143908",
   "metadata": {},
   "outputs": [],
   "source": []
  },
  {
   "cell_type": "code",
   "execution_count": 42,
   "id": "5a07f349",
   "metadata": {},
   "outputs": [],
   "source": [
    "# Saving this final data for reference during deployment\n",
    "DataForML.to_pickle('DataForML.pkl')"
   ]
  },
  {
   "cell_type": "code",
   "execution_count": 43,
   "id": "1784f280",
   "metadata": {},
   "outputs": [
    {
     "data": {
      "text/html": [
       "<div>\n",
       "<style scoped>\n",
       "    .dataframe tbody tr th:only-of-type {\n",
       "        vertical-align: middle;\n",
       "    }\n",
       "\n",
       "    .dataframe tbody tr th {\n",
       "        vertical-align: top;\n",
       "    }\n",
       "\n",
       "    .dataframe thead th {\n",
       "        text-align: right;\n",
       "    }\n",
       "</style>\n",
       "<table border=\"1\" class=\"dataframe\">\n",
       "  <thead>\n",
       "    <tr style=\"text-align: right;\">\n",
       "      <th></th>\n",
       "      <th>Load_Current</th>\n",
       "      <th>Power_Factor</th>\n",
       "      <th>Power_Factor_Error</th>\n",
       "      <th>Excitation_Current_Change</th>\n",
       "    </tr>\n",
       "  </thead>\n",
       "  <tbody>\n",
       "    <tr>\n",
       "      <th>0</th>\n",
       "      <td>3.0</td>\n",
       "      <td>0.66</td>\n",
       "      <td>0.34</td>\n",
       "      <td>0.383</td>\n",
       "    </tr>\n",
       "    <tr>\n",
       "      <th>1</th>\n",
       "      <td>3.0</td>\n",
       "      <td>0.68</td>\n",
       "      <td>0.32</td>\n",
       "      <td>0.372</td>\n",
       "    </tr>\n",
       "    <tr>\n",
       "      <th>2</th>\n",
       "      <td>3.0</td>\n",
       "      <td>0.70</td>\n",
       "      <td>0.30</td>\n",
       "      <td>0.360</td>\n",
       "    </tr>\n",
       "    <tr>\n",
       "      <th>3</th>\n",
       "      <td>3.0</td>\n",
       "      <td>0.72</td>\n",
       "      <td>0.28</td>\n",
       "      <td>0.338</td>\n",
       "    </tr>\n",
       "    <tr>\n",
       "      <th>4</th>\n",
       "      <td>3.0</td>\n",
       "      <td>0.74</td>\n",
       "      <td>0.26</td>\n",
       "      <td>0.317</td>\n",
       "    </tr>\n",
       "  </tbody>\n",
       "</table>\n",
       "</div>"
      ],
      "text/plain": [
       "   Load_Current  Power_Factor  Power_Factor_Error  Excitation_Current_Change\n",
       "0           3.0          0.66                0.34                      0.383\n",
       "1           3.0          0.68                0.32                      0.372\n",
       "2           3.0          0.70                0.30                      0.360\n",
       "3           3.0          0.72                0.28                      0.338\n",
       "4           3.0          0.74                0.26                      0.317"
      ]
     },
     "execution_count": 43,
     "metadata": {},
     "output_type": "execute_result"
    }
   ],
   "source": [
    "import pandas as pd\n",
    "DataForML=pd.read_pickle('DataForML.pkl')\n",
    "DataForML.head()"
   ]
  },
  {
   "cell_type": "code",
   "execution_count": null,
   "id": "b3fd41fd",
   "metadata": {},
   "outputs": [],
   "source": []
  },
  {
   "cell_type": "code",
   "execution_count": 44,
   "id": "30672a4a",
   "metadata": {},
   "outputs": [],
   "source": [
    "# Data Pre-processing for Machine Learning\n",
    "# List of steps performed on predictor variables before data can be used for Machine learning\n",
    "\n",
    "# 1. Converting each Ordical Categorical columns to numeric\n",
    "# 2. Converting Binary nominal Categorical columns to numeric using 1/0 mapping\n",
    "# 3. Converting all other nominal categorical columns to numeric using pd.get_dummies()\n",
    "# 4. Data Transformation (Optional): Standardization/Normalization/log/sqrt. Important if you are using distance based algorithms\n",
    "# like KNN, or Neural Networks\n",
    "\n",
    "# In this data there is no Ordinal categorical variable which is in string format."
   ]
  },
  {
   "cell_type": "code",
   "execution_count": 45,
   "id": "1dd11d96",
   "metadata": {},
   "outputs": [],
   "source": [
    "# Converting binary nominal variable to numeric using / mapping\n",
    "# There is no binary nominal variable in string format to be converted"
   ]
  },
  {
   "cell_type": "code",
   "execution_count": 46,
   "id": "fa1a74ef",
   "metadata": {},
   "outputs": [],
   "source": [
    "# Converting the nominal variable to numeric using get_dummies()"
   ]
  },
  {
   "cell_type": "code",
   "execution_count": 47,
   "id": "f87defc2",
   "metadata": {},
   "outputs": [
    {
     "data": {
      "text/html": [
       "<div>\n",
       "<style scoped>\n",
       "    .dataframe tbody tr th:only-of-type {\n",
       "        vertical-align: middle;\n",
       "    }\n",
       "\n",
       "    .dataframe tbody tr th {\n",
       "        vertical-align: top;\n",
       "    }\n",
       "\n",
       "    .dataframe thead th {\n",
       "        text-align: right;\n",
       "    }\n",
       "</style>\n",
       "<table border=\"1\" class=\"dataframe\">\n",
       "  <thead>\n",
       "    <tr style=\"text-align: right;\">\n",
       "      <th></th>\n",
       "      <th>Load_Current</th>\n",
       "      <th>Power_Factor</th>\n",
       "      <th>Power_Factor_Error</th>\n",
       "      <th>Excitation_Current_Change</th>\n",
       "      <th>Excitation_Current</th>\n",
       "    </tr>\n",
       "  </thead>\n",
       "  <tbody>\n",
       "    <tr>\n",
       "      <th>0</th>\n",
       "      <td>3.0</td>\n",
       "      <td>0.66</td>\n",
       "      <td>0.34</td>\n",
       "      <td>0.383</td>\n",
       "      <td>1.563</td>\n",
       "    </tr>\n",
       "    <tr>\n",
       "      <th>1</th>\n",
       "      <td>3.0</td>\n",
       "      <td>0.68</td>\n",
       "      <td>0.32</td>\n",
       "      <td>0.372</td>\n",
       "      <td>1.552</td>\n",
       "    </tr>\n",
       "    <tr>\n",
       "      <th>2</th>\n",
       "      <td>3.0</td>\n",
       "      <td>0.70</td>\n",
       "      <td>0.30</td>\n",
       "      <td>0.360</td>\n",
       "      <td>1.540</td>\n",
       "    </tr>\n",
       "    <tr>\n",
       "      <th>3</th>\n",
       "      <td>3.0</td>\n",
       "      <td>0.72</td>\n",
       "      <td>0.28</td>\n",
       "      <td>0.338</td>\n",
       "      <td>1.518</td>\n",
       "    </tr>\n",
       "    <tr>\n",
       "      <th>4</th>\n",
       "      <td>3.0</td>\n",
       "      <td>0.74</td>\n",
       "      <td>0.26</td>\n",
       "      <td>0.317</td>\n",
       "      <td>1.497</td>\n",
       "    </tr>\n",
       "    <tr>\n",
       "      <th>5</th>\n",
       "      <td>3.0</td>\n",
       "      <td>0.76</td>\n",
       "      <td>0.24</td>\n",
       "      <td>0.301</td>\n",
       "      <td>1.481</td>\n",
       "    </tr>\n",
       "    <tr>\n",
       "      <th>6</th>\n",
       "      <td>3.0</td>\n",
       "      <td>0.78</td>\n",
       "      <td>0.22</td>\n",
       "      <td>0.290</td>\n",
       "      <td>1.470</td>\n",
       "    </tr>\n",
       "    <tr>\n",
       "      <th>7</th>\n",
       "      <td>3.0</td>\n",
       "      <td>0.80</td>\n",
       "      <td>0.20</td>\n",
       "      <td>0.280</td>\n",
       "      <td>1.460</td>\n",
       "    </tr>\n",
       "    <tr>\n",
       "      <th>8</th>\n",
       "      <td>3.0</td>\n",
       "      <td>0.82</td>\n",
       "      <td>0.18</td>\n",
       "      <td>0.250</td>\n",
       "      <td>1.430</td>\n",
       "    </tr>\n",
       "    <tr>\n",
       "      <th>9</th>\n",
       "      <td>3.0</td>\n",
       "      <td>0.84</td>\n",
       "      <td>0.16</td>\n",
       "      <td>0.221</td>\n",
       "      <td>1.401</td>\n",
       "    </tr>\n",
       "    <tr>\n",
       "      <th>10</th>\n",
       "      <td>3.0</td>\n",
       "      <td>0.86</td>\n",
       "      <td>0.14</td>\n",
       "      <td>0.192</td>\n",
       "      <td>1.372</td>\n",
       "    </tr>\n",
       "    <tr>\n",
       "      <th>11</th>\n",
       "      <td>3.0</td>\n",
       "      <td>0.88</td>\n",
       "      <td>0.12</td>\n",
       "      <td>0.165</td>\n",
       "      <td>1.345</td>\n",
       "    </tr>\n",
       "    <tr>\n",
       "      <th>12</th>\n",
       "      <td>3.0</td>\n",
       "      <td>0.90</td>\n",
       "      <td>0.10</td>\n",
       "      <td>0.138</td>\n",
       "      <td>1.318</td>\n",
       "    </tr>\n",
       "    <tr>\n",
       "      <th>13</th>\n",
       "      <td>3.0</td>\n",
       "      <td>0.92</td>\n",
       "      <td>0.08</td>\n",
       "      <td>0.098</td>\n",
       "      <td>1.278</td>\n",
       "    </tr>\n",
       "    <tr>\n",
       "      <th>14</th>\n",
       "      <td>3.0</td>\n",
       "      <td>0.94</td>\n",
       "      <td>0.06</td>\n",
       "      <td>0.057</td>\n",
       "      <td>1.237</td>\n",
       "    </tr>\n",
       "    <tr>\n",
       "      <th>15</th>\n",
       "      <td>3.0</td>\n",
       "      <td>0.96</td>\n",
       "      <td>0.04</td>\n",
       "      <td>0.037</td>\n",
       "      <td>1.217</td>\n",
       "    </tr>\n",
       "    <tr>\n",
       "      <th>16</th>\n",
       "      <td>3.0</td>\n",
       "      <td>0.98</td>\n",
       "      <td>0.02</td>\n",
       "      <td>0.037</td>\n",
       "      <td>1.217</td>\n",
       "    </tr>\n",
       "    <tr>\n",
       "      <th>17</th>\n",
       "      <td>3.0</td>\n",
       "      <td>1.00</td>\n",
       "      <td>0.00</td>\n",
       "      <td>0.037</td>\n",
       "      <td>1.217</td>\n",
       "    </tr>\n",
       "    <tr>\n",
       "      <th>18</th>\n",
       "      <td>3.1</td>\n",
       "      <td>0.66</td>\n",
       "      <td>0.34</td>\n",
       "      <td>0.397</td>\n",
       "      <td>1.577</td>\n",
       "    </tr>\n",
       "    <tr>\n",
       "      <th>19</th>\n",
       "      <td>3.1</td>\n",
       "      <td>0.68</td>\n",
       "      <td>0.32</td>\n",
       "      <td>0.414</td>\n",
       "      <td>1.594</td>\n",
       "    </tr>\n",
       "  </tbody>\n",
       "</table>\n",
       "</div>"
      ],
      "text/plain": [
       "    Load_Current  Power_Factor  Power_Factor_Error  Excitation_Current_Change  \\\n",
       "0            3.0          0.66                0.34                      0.383   \n",
       "1            3.0          0.68                0.32                      0.372   \n",
       "2            3.0          0.70                0.30                      0.360   \n",
       "3            3.0          0.72                0.28                      0.338   \n",
       "4            3.0          0.74                0.26                      0.317   \n",
       "5            3.0          0.76                0.24                      0.301   \n",
       "6            3.0          0.78                0.22                      0.290   \n",
       "7            3.0          0.80                0.20                      0.280   \n",
       "8            3.0          0.82                0.18                      0.250   \n",
       "9            3.0          0.84                0.16                      0.221   \n",
       "10           3.0          0.86                0.14                      0.192   \n",
       "11           3.0          0.88                0.12                      0.165   \n",
       "12           3.0          0.90                0.10                      0.138   \n",
       "13           3.0          0.92                0.08                      0.098   \n",
       "14           3.0          0.94                0.06                      0.057   \n",
       "15           3.0          0.96                0.04                      0.037   \n",
       "16           3.0          0.98                0.02                      0.037   \n",
       "17           3.0          1.00                0.00                      0.037   \n",
       "18           3.1          0.66                0.34                      0.397   \n",
       "19           3.1          0.68                0.32                      0.414   \n",
       "\n",
       "    Excitation_Current  \n",
       "0                1.563  \n",
       "1                1.552  \n",
       "2                1.540  \n",
       "3                1.518  \n",
       "4                1.497  \n",
       "5                1.481  \n",
       "6                1.470  \n",
       "7                1.460  \n",
       "8                1.430  \n",
       "9                1.401  \n",
       "10               1.372  \n",
       "11               1.345  \n",
       "12               1.318  \n",
       "13               1.278  \n",
       "14               1.237  \n",
       "15               1.217  \n",
       "16               1.217  \n",
       "17               1.217  \n",
       "18               1.577  \n",
       "19               1.594  "
      ]
     },
     "execution_count": 47,
     "metadata": {},
     "output_type": "execute_result"
    }
   ],
   "source": [
    "# Treating all the nominal variables at once using dummy variables\n",
    "DataForML_Numeric=pd.get_dummies(DataForML)\n",
    "\n",
    "# Adding Target variable to the data\n",
    "DataForML_Numeric['Excitation_Current']=SynchronousMachine['Excitation_Current']\n",
    "\n",
    "# Printing sample rows\n",
    "DataForML_Numeric.head(20)"
   ]
  },
  {
   "cell_type": "code",
   "execution_count": null,
   "id": "f343902d",
   "metadata": {},
   "outputs": [],
   "source": []
  },
  {
   "cell_type": "code",
   "execution_count": 48,
   "id": "804f11fb",
   "metadata": {},
   "outputs": [],
   "source": [
    "# Machine learning: Splitting the data into Training & Testing sample\n",
    "# We don't uses full data for creating the model. Some data is randomly selected and kept aside for checking how good the model is.\n",
    "# This is known as Testing dataand the remaining data is called Training data on which the model is built.\n",
    "# Typically 70% of the data is used as Training data and the rest 30% is used as Testing data."
   ]
  },
  {
   "cell_type": "code",
   "execution_count": 49,
   "id": "e21c9de5",
   "metadata": {},
   "outputs": [],
   "source": [
    "# Printing all the names for our references"
   ]
  },
  {
   "cell_type": "code",
   "execution_count": 50,
   "id": "1b9c1dbb",
   "metadata": {},
   "outputs": [
    {
     "data": {
      "text/plain": [
       "Index(['Load_Current', 'Power_Factor', 'Power_Factor_Error',\n",
       "       'Excitation_Current_Change', 'Excitation_Current'],\n",
       "      dtype='object')"
      ]
     },
     "execution_count": 50,
     "metadata": {},
     "output_type": "execute_result"
    }
   ],
   "source": [
    "DataForML_Numeric.columns"
   ]
  },
  {
   "cell_type": "code",
   "execution_count": 51,
   "id": "b6553911",
   "metadata": {},
   "outputs": [
    {
     "name": "stdout",
     "output_type": "stream",
     "text": [
      "(389, 4)\n",
      "(389,)\n",
      "(168, 4)\n",
      "(168,)\n"
     ]
    }
   ],
   "source": [
    "# Separate Target variable and Predictors\n",
    "TargetVariable='Excitation_Current'\n",
    "Predictors=['Load_Current','Power_Factor','Power_Factor_Error','Excitation_Current_Change']\n",
    "\n",
    "# Simple Linear Regression (only one predictor)\n",
    "\n",
    "X=DataForML_Numeric[Predictors].values\n",
    "y=DataForML_Numeric[TargetVariable].values\n",
    "\n",
    "# Split the data into training and testing set\n",
    "from sklearn.model_selection import train_test_split\n",
    "\n",
    "X_train, X_test, y_train, y_test = train_test_split(X, y, test_size=0.30, random_state=31)\n",
    "\n",
    "# Quick check on the shape of train and test\n",
    "print(X_train.shape)\n",
    "print(y_train.shape)\n",
    "print(X_test.shape)\n",
    "print(y_test.shape)"
   ]
  },
  {
   "cell_type": "code",
   "execution_count": null,
   "id": "145e3283",
   "metadata": {},
   "outputs": [],
   "source": []
  },
  {
   "cell_type": "code",
   "execution_count": 52,
   "id": "6d9a5f18",
   "metadata": {},
   "outputs": [
    {
     "data": {
      "text/plain": [
       "array([[4.   , 0.68 , 0.32 , 0.455],\n",
       "       [4.5  , 0.74 , 0.26 , 0.467],\n",
       "       [5.6  , 0.75 , 0.25 , 0.713],\n",
       "       [5.3  , 0.89 , 0.11 , 0.315],\n",
       "       [5.8  , 0.83 , 0.17 , 0.471],\n",
       "       [3.   , 0.96 , 0.04 , 0.037],\n",
       "       [5.1  , 0.83 , 0.17 , 0.454],\n",
       "       [3.7  , 0.98 , 0.02 , 0.14 ],\n",
       "       [3.3  , 0.7  , 0.3  , 0.43 ],\n",
       "       [5.7  , 0.85 , 0.15 , 0.506]])"
      ]
     },
     "execution_count": 52,
     "metadata": {},
     "output_type": "execute_result"
    }
   ],
   "source": [
    "# Suppressing sientific notation in printing numpy arrays\n",
    "np.set_printoptions(suppress=True)\n",
    "X_train[0:10]"
   ]
  },
  {
   "cell_type": "code",
   "execution_count": 53,
   "id": "0756626d",
   "metadata": {},
   "outputs": [
    {
     "data": {
      "text/plain": [
       "array([1.635, 1.647, 1.893, 1.495, 1.651, 1.217, 1.634, 1.32 , 1.61 ,\n",
       "       1.686])"
      ]
     },
     "execution_count": 53,
     "metadata": {},
     "output_type": "execute_result"
    }
   ],
   "source": [
    "y_train[0:10]"
   ]
  },
  {
   "cell_type": "code",
   "execution_count": null,
   "id": "f85f5854",
   "metadata": {},
   "outputs": [],
   "source": []
  },
  {
   "cell_type": "code",
   "execution_count": 55,
   "id": "b713b0c5",
   "metadata": {},
   "outputs": [],
   "source": [
    "# Multiple Linear Regression"
   ]
  },
  {
   "cell_type": "code",
   "execution_count": 62,
   "id": "b087753e",
   "metadata": {},
   "outputs": [
    {
     "name": "stdout",
     "output_type": "stream",
     "text": [
      "LinearRegression()\n",
      "R2 value 1.0\n",
      "\n",
      "##### Model Validation and Accuracy Calculations ######\n",
      "   Excitation_Current  PredictedExcitation_Current        APE\n",
      "0               1.575                          2.0  26.984127\n",
      "1               1.685                          2.0  18.694362\n",
      "2               1.656                          2.0  20.772947\n",
      "3               1.318                          1.0  24.127466\n",
      "4               1.450                          1.0  31.034483\n",
      "Mean Accuracy on test data: 76.50074193217375\n",
      "Median Accuracy on test daya: 75.4669504717484\n",
      "\\Accuracy values for 10-Fold Cross Validation:\n",
      " [100. 100. 100. 100. 100.]\n",
      "\n",
      "Final Average Accuracy of the model: 100.0\n"
     ]
    }
   ],
   "source": [
    "from sklearn.linear_model import LinearRegression\n",
    "RegModel = LinearRegression()\n",
    "\n",
    "# Printing all the parameters of Linear Regression\n",
    "print(RegModel)\n",
    "\n",
    "# Creating the model on Training data\n",
    "LREG = RegModel.fit(X_train,y_train)\n",
    "\n",
    "# Taking the standardized values to original scale\n",
    "\n",
    "from sklearn import metrics\n",
    "# Measuring Goodness of fit in Trining data\n",
    "print('R2 value',metrics.r2_score(y_train, LREG.predict(X_train)))\n",
    "\n",
    "#######################################################################\n",
    "\n",
    "print('\\n##### Model Validation and Accuracy Calculations ######')\n",
    "\n",
    "# Printing some sample values of prediction\n",
    "prediction=LREG.predict(X_test)\n",
    "TestingDataResults=pd.DataFrame(data=X_test, columns=Predictors)\n",
    "TestingDataResults[TargetVariable]=y_test\n",
    "TestingDataResults[('Predicted'+TargetVariable)]=np.round(prediction)\n",
    "\n",
    "# Calulating the error for each row\n",
    "TestingDataResults['APE']=100 * ((abs(\n",
    "    TestingDataResults['Excitation_Current']-TestingDataResults['PredictedExcitation_Current']))/TestingDataResults['Excitation_Current'])\n",
    "\n",
    "# Printing sample prediction values\n",
    "print(TestingDataResults[[TargetVariable,'Predicted'+TargetVariable, 'APE']].head())\n",
    "\n",
    "MAPE=np.mean(TestingDataResults['APE'])\n",
    "MedianMAPE=np.median(TestingDataResults['APE'])\n",
    "\n",
    "Accuracy=100 - MAPE\n",
    "MedianAccuracy=100 - MedianMAPE\n",
    "print('Mean Accuracy on test data:', Accuracy) # Can be negative sometimes due to outlier\n",
    "print('Median Accuracy on test daya:', MedianAccuracy)\n",
    "\n",
    "\n",
    "# Defining the custom function to calculate accuracy\n",
    "# Make sure that there are no zeroes in the Target variable if you are using MAPE\n",
    "def Accuracy_Score(orig,pred):\n",
    "    MAPE = np.mean(100 * (np.abs(orig-pred)/orig))\n",
    "    #print('#'*70, 'Accuracy:', 100-MAPE)\n",
    "    return(100-MAPE)\n",
    "\n",
    "# Custom scoring MAPE calculation\n",
    "from sklearn.metrics import make_scorer\n",
    "custom_scoring=make_scorer(Accuracy_Score, greater_is_better=True)\n",
    "\n",
    "# Importing cross validation function from sklearn\n",
    "from sklearn.model_selection import cross_val_score\n",
    "\n",
    "# Running 10-Fold Cross validation on a given algorithm\n",
    "# Passing full data X and y because the K-fold will split the data and automaticaly choose train/test\n",
    "Accuracy_Values=cross_val_score(RegModel, X, y, cv=5, scoring=custom_scoring)\n",
    "print('\\Accuracy values for 10-Fold Cross Validation:\\n',Accuracy_Values)\n",
    "print('\\nFinal Average Accuracy of the model:', round(Accuracy_Values.mean(),2))"
   ]
  },
  {
   "cell_type": "code",
   "execution_count": null,
   "id": "4c47d744",
   "metadata": {},
   "outputs": [],
   "source": []
  },
  {
   "cell_type": "code",
   "execution_count": 63,
   "id": "764b86c8",
   "metadata": {},
   "outputs": [
    {
     "data": {
      "text/plain": [
       "dict_keys(['explained_variance', 'r2', 'max_error', 'neg_median_absolute_error', 'neg_mean_absolute_error', 'neg_mean_absolute_percentage_error', 'neg_mean_squared_error', 'neg_mean_squared_log_error', 'neg_root_mean_squared_error', 'neg_mean_poisson_deviance', 'neg_mean_gamma_deviance', 'accuracy', 'top_k_accuracy', 'roc_auc', 'roc_auc_ovr', 'roc_auc_ovo', 'roc_auc_ovr_weighted', 'roc_auc_ovo_weighted', 'balanced_accuracy', 'average_precision', 'neg_log_loss', 'neg_brier_score', 'adjusted_rand_score', 'rand_score', 'homogeneity_score', 'completeness_score', 'v_measure_score', 'mutual_info_score', 'adjusted_mutual_info_score', 'normalized_mutual_info_score', 'fowlkes_mallows_score', 'precision', 'precision_macro', 'precision_micro', 'precision_samples', 'precision_weighted', 'recall', 'recall_macro', 'recall_micro', 'recall_samples', 'recall_weighted', 'f1', 'f1_macro', 'f1_micro', 'f1_samples', 'f1_weighted', 'jaccard', 'jaccard_macro', 'jaccard_micro', 'jaccard_samples', 'jaccard_weighted'])"
      ]
     },
     "execution_count": 63,
     "metadata": {},
     "output_type": "execute_result"
    }
   ],
   "source": [
    "import sklearn\n",
    "sklearn.metrics.SCORERS.keys()"
   ]
  },
  {
   "cell_type": "code",
   "execution_count": 65,
   "id": "a2339392",
   "metadata": {},
   "outputs": [
    {
     "data": {
      "text/html": [
       "<div>\n",
       "<style scoped>\n",
       "    .dataframe tbody tr th:only-of-type {\n",
       "        vertical-align: middle;\n",
       "    }\n",
       "\n",
       "    .dataframe tbody tr th {\n",
       "        vertical-align: top;\n",
       "    }\n",
       "\n",
       "    .dataframe thead th {\n",
       "        text-align: right;\n",
       "    }\n",
       "</style>\n",
       "<table border=\"1\" class=\"dataframe\">\n",
       "  <thead>\n",
       "    <tr style=\"text-align: right;\">\n",
       "      <th></th>\n",
       "      <th>Load_Current</th>\n",
       "      <th>Power_Factor</th>\n",
       "      <th>Power_Factor_Error</th>\n",
       "      <th>Excitation_Current_Change</th>\n",
       "      <th>Excitation_Current</th>\n",
       "      <th>PredictedExcitation_Current</th>\n",
       "      <th>APE</th>\n",
       "      <th>Excitation_CurrentAVG</th>\n",
       "    </tr>\n",
       "  </thead>\n",
       "  <tbody>\n",
       "    <tr>\n",
       "      <th>0</th>\n",
       "      <td>3.5</td>\n",
       "      <td>0.68</td>\n",
       "      <td>0.32</td>\n",
       "      <td>0.395</td>\n",
       "      <td>1.575</td>\n",
       "      <td>2.0</td>\n",
       "      <td>26.984127</td>\n",
       "      <td>1.514155</td>\n",
       "    </tr>\n",
       "    <tr>\n",
       "      <th>1</th>\n",
       "      <td>3.6</td>\n",
       "      <td>0.70</td>\n",
       "      <td>0.30</td>\n",
       "      <td>0.505</td>\n",
       "      <td>1.685</td>\n",
       "      <td>2.0</td>\n",
       "      <td>18.694362</td>\n",
       "      <td>1.514155</td>\n",
       "    </tr>\n",
       "    <tr>\n",
       "      <th>2</th>\n",
       "      <td>3.6</td>\n",
       "      <td>0.68</td>\n",
       "      <td>0.32</td>\n",
       "      <td>0.476</td>\n",
       "      <td>1.656</td>\n",
       "      <td>2.0</td>\n",
       "      <td>20.772947</td>\n",
       "      <td>1.514155</td>\n",
       "    </tr>\n",
       "    <tr>\n",
       "      <th>3</th>\n",
       "      <td>5.5</td>\n",
       "      <td>0.95</td>\n",
       "      <td>0.05</td>\n",
       "      <td>0.138</td>\n",
       "      <td>1.318</td>\n",
       "      <td>1.0</td>\n",
       "      <td>24.127466</td>\n",
       "      <td>1.514155</td>\n",
       "    </tr>\n",
       "    <tr>\n",
       "      <th>4</th>\n",
       "      <td>4.0</td>\n",
       "      <td>0.84</td>\n",
       "      <td>0.16</td>\n",
       "      <td>0.270</td>\n",
       "      <td>1.450</td>\n",
       "      <td>1.0</td>\n",
       "      <td>31.034483</td>\n",
       "      <td>1.514155</td>\n",
       "    </tr>\n",
       "  </tbody>\n",
       "</table>\n",
       "</div>"
      ],
      "text/plain": [
       "   Load_Current  Power_Factor  Power_Factor_Error  Excitation_Current_Change  \\\n",
       "0           3.5          0.68                0.32                      0.395   \n",
       "1           3.6          0.70                0.30                      0.505   \n",
       "2           3.6          0.68                0.32                      0.476   \n",
       "3           5.5          0.95                0.05                      0.138   \n",
       "4           4.0          0.84                0.16                      0.270   \n",
       "\n",
       "   Excitation_Current  PredictedExcitation_Current        APE  \\\n",
       "0               1.575                          2.0  26.984127   \n",
       "1               1.685                          2.0  18.694362   \n",
       "2               1.656                          2.0  20.772947   \n",
       "3               1.318                          1.0  24.127466   \n",
       "4               1.450                          1.0  31.034483   \n",
       "\n",
       "   Excitation_CurrentAVG  \n",
       "0               1.514155  \n",
       "1               1.514155  \n",
       "2               1.514155  \n",
       "3               1.514155  \n",
       "4               1.514155  "
      ]
     },
     "execution_count": 65,
     "metadata": {},
     "output_type": "execute_result"
    }
   ],
   "source": [
    "TestingDataResults['Excitation_CurrentAVG']=TestingDataResults['Excitation_Current'].mean()\n",
    "TestingDataResults.head()"
   ]
  },
  {
   "cell_type": "code",
   "execution_count": 66,
   "id": "15528af8",
   "metadata": {},
   "outputs": [
    {
     "data": {
      "text/plain": [
       "[<matplotlib.lines.Line2D at 0x299cfe24f70>]"
      ]
     },
     "execution_count": 66,
     "metadata": {},
     "output_type": "execute_result"
    },
    {
     "data": {
      "image/png": "[encoded data removed]",
      "text/plain": [
       "<Figure size 640x480 with 1 Axes>"
      ]
     },
     "metadata": {},
     "output_type": "display_data"
    }
   ],
   "source": [
    "# Visualizing the line of best fit\n",
    "%matplotlib inline\n",
    "import matplotlib.pyplot as plt\n",
    "plt.scatter(x=TestingDataResults['Power_Factor'], y=TestingDataResults['Excitation_Current'])\n",
    "plt.scatter(TestingDataResults['Power_Factor'], TestingDataResults['PredictedExcitation_Current'], color='red')\n",
    "plt.plot(TestingDataResults['Power_Factor'], TestingDataResults['Excitation_CurrentAVG'], color='green')"
   ]
  },
  {
   "cell_type": "code",
   "execution_count": null,
   "id": "07996a32",
   "metadata": {},
   "outputs": [],
   "source": []
  },
  {
   "cell_type": "code",
   "execution_count": 67,
   "id": "ee9e254f",
   "metadata": {},
   "outputs": [],
   "source": [
    "SelectedColumns=['Load_Current', 'Power_Factor', 'Power_Factor_Error', 'Excitation_Current_Change']"
   ]
  },
  {
   "cell_type": "code",
   "execution_count": 68,
   "id": "5da26dfc",
   "metadata": {},
   "outputs": [
    {
     "data": {
      "text/plain": [
       "array([-0.,  0., -0.,  1.])"
      ]
     },
     "execution_count": 68,
     "metadata": {},
     "output_type": "execute_result"
    }
   ],
   "source": [
    "# Looking at the co-efficients for each column\n",
    "LREG.coef_"
   ]
  },
  {
   "cell_type": "code",
   "execution_count": 69,
   "id": "fac0756e",
   "metadata": {},
   "outputs": [
    {
     "data": {
      "text/plain": [
       "1.18"
      ]
     },
     "execution_count": 69,
     "metadata": {},
     "output_type": "execute_result"
    }
   ],
   "source": [
    "# Looking at the intercept\n",
    "LREG.intercept_"
   ]
  },
  {
   "cell_type": "code",
   "execution_count": null,
   "id": "a7665096",
   "metadata": {},
   "outputs": [],
   "source": []
  },
  {
   "cell_type": "code",
   "execution_count": 71,
   "id": "3c87797b",
   "metadata": {},
   "outputs": [
    {
     "name": "stdout",
     "output_type": "stream",
     "text": [
      "DecisionTreeRegressor(criterion='mse', max_depth=3)\n",
      "R2 Value: 0.9797323810680609\n",
      "\n",
      "##### Model Validation and Accuracy Calculation #######\n",
      "   Excitation_Current  PredictedExcitation_Current\n",
      "0               1.575                          2.0\n",
      "1               1.685                          2.0\n",
      "2               1.656                          2.0\n",
      "3               1.318                          1.0\n",
      "4               1.450                          1.0\n",
      "Median Accuracy on test data: 76.45017303782848\n",
      "Median Accuracy on test data: 75.4669504717484\n",
      "\n",
      "Accuracy values for 10-Fold Cross validation:\n",
      " [98.51857336 98.11324643 98.38111293 98.56856814 98.70131426 98.75812267\n",
      " 98.33095636 98.55432236 98.42597291 98.46013002]\n",
      "\n",
      "Final Average Accuracy of the model: 98.48\n"
     ]
    },
    {
     "data": {
      "image/png": "[encoded data removed]",
      "text/plain": [
       "<Figure size 640x480 with 1 Axes>"
      ]
     },
     "metadata": {},
     "output_type": "display_data"
    }
   ],
   "source": [
    "# Decision Trees\n",
    "# Decision Trees (Multiple if-else statement)\n",
    "from sklearn.tree import DecisionTreeRegressor\n",
    "RegModel = DecisionTreeRegressor(max_depth=3, criterion='mse')\n",
    "# Good range of hyper parameter Max_depth = 2 to 20\n",
    "\n",
    "# Printing all the parameters of Decision Tree\n",
    "print(RegModel)\n",
    "\n",
    "# Creating the model on Training Data\n",
    "DT=RegModel.fit(X_train, y_train)\n",
    "\n",
    "from sklearn import metrics\n",
    "# Measuring Goodness of fit in Training data\n",
    "print('R2 Value:', metrics.r2_score(y_train, DT.predict(X_train)))\n",
    "\n",
    "# Plotting the feature importance for Top 10 most important columns\n",
    "%matplotlib inline\n",
    "feature_importances = pd.Series(DT.feature_importances_, index=Predictors)\n",
    "feature_importances.nlargest(10).plot(kind='barh')\n",
    "\n",
    "##################################################################################\n",
    "print('\\n##### Model Validation and Accuracy Calculation #######')\n",
    "prediction=DT.predict(X_test)\n",
    "# Printing some sample values of prediction\n",
    "TestingDataResults=pd.DataFrame(data=X_test, columns=Predictors)\n",
    "TestingDataResults[TargetVariable]=y_test\n",
    "TestingDataResults[('Predicted'+TargetVariable)]=np.round(prediction)\n",
    "\n",
    "# Printing sample prediction values\n",
    "print(TestingDataResults[[TargetVariable,'Predicted'+TargetVariable]].head())\n",
    "\n",
    "# Calculating the error in each row\n",
    "TestingDataResults['APE']=100 * ((abs(\n",
    "    TestingDataResults['Excitation_Current']-TestingDataResults['PredictedExcitation_Current']))/TestingDataResults['Excitation_Current'])\n",
    "\n",
    "MAPE=np.mean(TestingDataResults['APE'])\n",
    "MedianMAPE=np.median(TestingDataResults['APE'])\n",
    "\n",
    "Accuracy = 100 - MAPE\n",
    "MedianAccuracy = 100 - MedianMAPE\n",
    "print('Median Accuracy on test data:', Accuracy) # Can be negative sometimes due to outlier\n",
    "print('Median Accuracy on test data:', MedianAccuracy)\n",
    "\n",
    "\n",
    "# Defining the custom function to calculate accuracy\n",
    "# Make sure there are no zeroes in the Target variable if you are using MAPE\n",
    "def Accuracy_Score(orig,pred):\n",
    "    MAPE = np.mean(100 * (np.abs(orig-pred)/orig))\n",
    "    return(100-MAPE)\n",
    "\n",
    "# Custom Scoring MAPE calculation\n",
    "from sklearn.metrics import make_scorer\n",
    "custom_Scoring=make_scorer(Accuracy_Score, greater_is_better=True)\n",
    "\n",
    "# Importing cross validation function from sklearn\n",
    "from sklearn.model_selection import cross_val_score\n",
    "\n",
    "# Running 10-Fold Cross validation on a given algorithm\n",
    "# Passing full data X and y because the K-fold will split the data and automatically choose train/test\n",
    "Accuracy_Values=cross_val_score(RegModel, X, y, cv=10, scoring=custom_Scoring)\n",
    "print('\\nAccuracy values for 10-Fold Cross validation:\\n',Accuracy_Values)\n",
    "print('\\nFinal Average Accuracy of the model:', round(Accuracy_Values.mean(),2))"
   ]
  },
  {
   "cell_type": "code",
   "execution_count": 82,
   "id": "bad89809",
   "metadata": {},
   "outputs": [],
   "source": [
    "# Plotting a Decision Tree\n",
    "# Installing the required library for plotting the decision tree\n",
    "# Make sure to run all three commands\n",
    "# 1. Open anaconda Prompt / people with mac run on terminal\n",
    "# pip install graphviz\n",
    "# conda install graphviz\n",
    "# pip install pydotplus"
   ]
  },
  {
   "cell_type": "code",
   "execution_count": 83,
   "id": "476e6dbe",
   "metadata": {},
   "outputs": [],
   "source": [
    "# Adding graphviz path to the PATH env variable\n",
    "# Try to find \"dot.exe\" in your system and provide the path of that folder\n",
    "import os\n",
    "os.environ['PATH'] +=os.pathsep + 'C:/Users/Chinmaya/anaconda3/pkgs/graphviz-2.50.0-hdb8b0d4_0/Library/bin'"
   ]
  },
  {
   "cell_type": "code",
   "execution_count": 84,
   "id": "164050f0",
   "metadata": {},
   "outputs": [
    {
     "data": {
      "text/plain": [
       "0.032361406916422704"
      ]
     },
     "execution_count": 84,
     "metadata": {},
     "output_type": "execute_result"
    }
   ],
   "source": [
    "np.var(y_train)"
   ]
  },
  {
   "cell_type": "code",
   "execution_count": 85,
   "id": "499783d3",
   "metadata": {},
   "outputs": [
    {
     "data": {
      "text/plain": [
       "1.5377866323907454"
      ]
     },
     "execution_count": 85,
     "metadata": {},
     "output_type": "execute_result"
    }
   ],
   "source": [
    "np.mean(y_train)"
   ]
  },
  {
   "cell_type": "code",
   "execution_count": 87,
   "id": "228c7858",
   "metadata": {
    "scrolled": true
   },
   "outputs": [
    {
     "name": "stdout",
     "output_type": "stream",
     "text": [
      "digraph Tree {\n",
      "node [shape=box, fontname=\"helvetica\"] ;\n",
      "edge [fontname=\"helvetica\"] ;\n",
      "0 [label=\"Excitation_Current_Change <= 0.363\\nmse = 0.032\\nsamples = 389\\nvalue = 1.538\"] ;\n",
      "1 [label=\"Excitation_Current_Change <= 0.227\\nmse = 0.007\\nsamples = 203\\nvalue = 1.392\"] ;\n",
      "0 -> 1 [labeldistance=2.5, labelangle=45, headlabel=\"True\"] ;\n",
      "2 [label=\"Excitation_Current_Change <= 0.148\\nmse = 0.002\\nsamples = 122\\nvalue = 1.332\"] ;\n",
      "1 -> 2 ;\n",
      "3 [label=\"mse = 0.001\\nsamples = 54\\nvalue = 1.285\"] ;\n",
      "2 -> 3 ;\n",
      "4 [label=\"mse = 0.0\\nsamples = 68\\nvalue = 1.369\"] ;\n",
      "2 -> 4 ;\n",
      "5 [label=\"Excitation_Current_Change <= 0.296\\nmse = 0.002\\nsamples = 81\\nvalue = 1.482\"] ;\n",
      "1 -> 5 ;\n",
      "6 [label=\"mse = 0.0\\nsamples = 34\\nvalue = 1.443\"] ;\n",
      "5 -> 6 ;\n",
      "7 [label=\"mse = 0.0\\nsamples = 47\\nvalue = 1.51\"] ;\n",
      "5 -> 7 ;\n",
      "8 [label=\"Excitation_Current_Change <= 0.534\\nmse = 0.011\\nsamples = 186\\nvalue = 1.697\"] ;\n",
      "0 -> 8 [labeldistance=2.5, labelangle=-45, headlabel=\"False\"] ;\n",
      "9 [label=\"Excitation_Current_Change <= 0.447\\nmse = 0.002\\nsamples = 108\\nvalue = 1.622\"] ;\n",
      "8 -> 9 ;\n",
      "10 [label=\"mse = 0.001\\nsamples = 60\\nvalue = 1.584\"] ;\n",
      "9 -> 10 ;\n",
      "11 [label=\"mse = 0.001\\nsamples = 48\\nvalue = 1.67\"] ;\n",
      "9 -> 11 ;\n",
      "12 [label=\"Excitation_Current_Change <= 0.634\\nmse = 0.003\\nsamples = 78\\nvalue = 1.802\"] ;\n",
      "8 -> 12 ;\n",
      "13 [label=\"mse = 0.001\\nsamples = 47\\nvalue = 1.761\"] ;\n",
      "12 -> 13 ;\n",
      "14 [label=\"mse = 0.001\\nsamples = 31\\nvalue = 1.864\"] ;\n",
      "12 -> 14 ;\n",
      "}\n"
     ]
    },
    {
     "data": {
      "image/png": "[encoded data removed]",
      "text/plain": [
       "<IPython.core.display.Image object>"
      ]
     },
     "execution_count": 87,
     "metadata": {
      "image/png": {
       "height": 8000,
       "width": 8000
      }
     },
     "output_type": "execute_result"
    }
   ],
   "source": [
    "# Load libraries\n",
    "from IPython.display import Image\n",
    "from sklearn import tree\n",
    "import pydotplus\n",
    "\n",
    "# Creating DOT data\n",
    "dot_data = tree.export_graphviz(RegModel, out_file=None,\n",
    "                               feature_names=Predictors, class_names=TargetVariable)\n",
    "\n",
    "# Printing the rules\n",
    "print(dot_data)\n",
    "\n",
    "# Draw graph\n",
    "graph = pydotplus.graph_from_dot_data(dot_data)\n",
    "\n",
    "# Show graph\n",
    "Image(graph.create_png(), width=8000, height=8000)\n",
    "# Double click on the graph to zoom in"
   ]
  },
  {
   "cell_type": "code",
   "execution_count": 89,
   "id": "c78d1315",
   "metadata": {},
   "outputs": [
    {
     "data": {
      "text/plain": [
       "<Figure size 640x480 with 0 Axes>"
      ]
     },
     "metadata": {},
     "output_type": "display_data"
    }
   ],
   "source": [
    "# Saving the figure in current working directory\n",
    "import matplotlib.pyplot as plt\n",
    "currentFig=plt.gcf()\n",
    "currentFig.savefig('DecisionTree.JPEG')"
   ]
  },
  {
   "cell_type": "code",
   "execution_count": null,
   "id": "5aa7f923",
   "metadata": {},
   "outputs": [],
   "source": []
  }
 ],
 "metadata": {
  "kernelspec": {
   "display_name": "Python 3 (ipykernel)",
   "language": "python",
   "name": "python3"
  },
  "language_info": {
   "codemirror_mode": {
    "name": "ipython",
    "version": 3
   },
   "file_extension": ".py",
   "mimetype": "text/x-python",
   "name": "python",
   "nbconvert_exporter": "python",
   "pygments_lexer": "ipython3",
   "version": "3.9.13"
  }
 },
 "nbformat": 4,
 "nbformat_minor": 5
}
